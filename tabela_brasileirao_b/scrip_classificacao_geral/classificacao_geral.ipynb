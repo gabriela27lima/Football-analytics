{
 "cells": [
  {
   "cell_type": "markdown",
   "id": "554f5294",
   "metadata": {},
   "source": [
    "## Boilerplate e API"
   ]
  },
  {
   "cell_type": "code",
   "execution_count": 1,
   "id": "b9804cfa",
   "metadata": {},
   "outputs": [],
   "source": [
    "import json\n",
    "import io\n",
    "import base64\n",
    "import html\n",
    "import numpy as np\n",
    "import pandas as pd\n",
    "import requests\n",
    "from urllib.request import urlopen\n",
    "from PIL import Image\n",
    "import matplotlib.pyplot as plt\n",
    "from matplotlib.font_manager import FontProperties\n",
    "\n",
    "from highlight_text import fig_text\n",
    "from mplsoccer import Bumpy, FontManager, add_image"
   ]
  },
  {
   "cell_type": "code",
   "execution_count": 4,
   "id": "41d18c6f",
   "metadata": {},
   "outputs": [],
   "source": [
    "df_total_jogos = pd.DataFrame(total_jogos)\n"
   ]
  },
  {
   "cell_type": "markdown",
   "id": "cd850d35",
   "metadata": {},
   "source": [
    "## Criacao da classificação geral"
   ]
  },
  {
   "cell_type": "code",
   "execution_count": 13,
   "id": "50e16ef7",
   "metadata": {},
   "outputs": [],
   "source": [
    "def calcular_estatisticas(df):\n",
    "    estatisticas = {}\n",
    "    \n",
    "    for _, row in df.iterrows():\n",
    "        mandante = row['Mandante']\n",
    "        visitante = row['Visitante']\n",
    "        placar_mandante = row['Placar Mandante']\n",
    "        placar_visitante = row['Placar Visitante']\n",
    "        \n",
    "        if mandante not in estatisticas:\n",
    "            estatisticas[mandante] = {'P': 0, 'V': 0, 'E': 0, 'D': 0, 'Gols': '0:0', 'J': 0}\n",
    "        if visitante not in estatisticas:\n",
    "            estatisticas[visitante] = {'P': 0, 'V': 0, 'E': 0, 'D': 0, 'Gols': '0:0', 'J': 0}\n",
    "        \n",
    "        mandante_gols = estatisticas[mandante]['Gols']\n",
    "        visitante_gols = estatisticas[visitante]['Gols']\n",
    "        mandante_realizados, mandante_sofridos = map(int, mandante_gols.split(':'))\n",
    "        visitante_realizados, visitante_sofridos = map(int, visitante_gols.split(':'))\n",
    "        \n",
    "        mandante_realizados += placar_mandante\n",
    "        mandante_sofridos += placar_visitante\n",
    "        visitante_realizados += placar_visitante\n",
    "        visitante_sofridos += placar_mandante\n",
    "        \n",
    "        estatisticas[mandante]['Gols'] = f\"{mandante_realizados}:{mandante_sofridos}\"\n",
    "        estatisticas[visitante]['Gols'] = f\"{visitante_realizados}:{visitante_sofridos}\"\n",
    "        \n",
    "        if placar_mandante > placar_visitante:\n",
    "            estatisticas[mandante]['P'] += 3\n",
    "            estatisticas[mandante]['V'] += 1\n",
    "            estatisticas[visitante]['D'] += 1\n",
    "        elif placar_mandante < placar_visitante:\n",
    "            estatisticas[visitante]['P'] += 3\n",
    "            estatisticas[visitante]['V'] += 1\n",
    "            estatisticas[mandante]['D'] += 1\n",
    "        else:\n",
    "            estatisticas[mandante]['P'] += 1\n",
    "            estatisticas[visitante]['P'] += 1\n",
    "            estatisticas[mandante]['E'] += 1\n",
    "            estatisticas[visitante]['E'] += 1\n",
    "        \n",
    "        estatisticas[mandante]['J'] += 1\n",
    "        estatisticas[visitante]['J'] += 1\n",
    "    \n",
    "    return estatisticas\n",
    "\n",
    "estatisticas_times = calcular_estatisticas(df_total_jogos)\n",
    "\n",
    "df_estatisticas = pd.DataFrame.from_dict(estatisticas_times, orient='index').reset_index()\n",
    "df_estatisticas.rename(columns={'index': 'Time'}, inplace=True)\n",
    "df_estatisticas = df_estatisticas[['Time', 'P', 'V', 'E', 'D', 'Gols', 'J']]\n",
    "df_estatisticas.sort_values(by='P', ascending=False, inplace=True)\n",
    "\n",
    "df_estatisticas['#'] = range(1, len(df_estatisticas) + 1)\n",
    "df_estatisticas = df_estatisticas[['#', 'Time',  'P','J', 'V', 'E', 'D', 'Gols']]"
   ]
  },
  {
   "cell_type": "code",
   "execution_count": 14,
   "id": "af0d1703",
   "metadata": {},
   "outputs": [],
   "source": [
    "df_estatisticas = df_estatisticas.sort_values(by='P', ascending=False)"
   ]
  },
  {
   "cell_type": "code",
   "execution_count": 15,
   "id": "51a694b4",
   "metadata": {},
   "outputs": [],
   "source": [
    "cols = ['#'] + [col for col in df_estatisticas.columns if col != '#']\n",
    "df_estatisticas = df_estatisticas[cols]"
   ]
  }
 ],
 "metadata": {
  "kernelspec": {
   "display_name": "Python 3 (ipykernel)",
   "language": "python",
   "name": "python3"
  },
  "language_info": {
   "codemirror_mode": {
    "name": "ipython",
    "version": 3
   },
   "file_extension": ".py",
   "mimetype": "text/x-python",
   "name": "python",
   "nbconvert_exporter": "python",
   "pygments_lexer": "ipython3",
   "version": "3.10.9"
  }
 },
 "nbformat": 4,
 "nbformat_minor": 5
}
